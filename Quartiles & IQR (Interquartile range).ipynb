{
 "cells": [
  {
   "cell_type": "markdown",
   "metadata": {},
   "source": [
    "Quartiles:\n",
    "------------\n",
    "\n",
    "The quartiles of an ordered data set are the 3 points that split the data set into 4 equal groups. The 3 quartiles are defined as follows:\n",
    "\n",
    "1. Q1: The first quartile is the middle number between the smallest number in a data set and its median.\n",
    "2. Q2: The second quartile is the median ( percentile) of the data set.\n",
    "3. Q3: The third quartile is the middle number between a data set's median and its largest number.\n",
    "\n",
    "\n",
    "let's calculate the quartiles for the list [6, 7, 15, 36, 39, 40, 41, 42, 43, 47, 49]\n",
    "\n",
    "Q2:\n",
    "---\n",
    "Second quartile is the median of the list.\n",
    "\n",
    "so, we first sort the list, and find the median, in this case its 40\n",
    "\n",
    "Q1 & Q3:\n",
    "---------\n",
    "After finding Q2 we divide the list into two:\n",
    "\n",
    "[6, 7, 15, 36, 39] (Lower half) \n",
    "\n",
    "[41, 42, 43, 47, 49] (Upper half)\n",
    "\n",
    "Q1 will be the median of [6, 7, 15, 36, 39] i.e; 15 and Q3 will be the median of [41, 42, 43, 47, 49] i.e; 43\n",
    "\n",
    "\n",
    "IQR (Interquantile Range):\n",
    "------------------------------\n",
    "\n",
    "As the name suggests its the range between two quartiles.\n",
    "\n",
    "In this case its <i><strong>Q3 - Q1</strong></i> i.e; 43 - 15 = 28\n",
    "\n",
    "<i>The maximum difference in the above list for the middle 50% of the data is 28</i>\n",
    "\n",
    "\n",
    "Here is a nice little youtube video that will make this even more clear: https://youtu.be/K3wsOqIqA6k"
   ]
  }
 ],
 "metadata": {
  "kernelspec": {
   "display_name": "Python 3",
   "language": "python",
   "name": "python3"
  },
  "language_info": {
   "codemirror_mode": {
    "name": "ipython",
    "version": 3
   },
   "file_extension": ".py",
   "mimetype": "text/x-python",
   "name": "python",
   "nbconvert_exporter": "python",
   "pygments_lexer": "ipython3",
   "version": "3.6.0"
  }
 },
 "nbformat": 4,
 "nbformat_minor": 2
}
