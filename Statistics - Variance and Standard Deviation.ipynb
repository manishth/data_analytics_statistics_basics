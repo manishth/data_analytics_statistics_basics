{
 "cells": [
  {
   "cell_type": "markdown",
   "metadata": {},
   "source": [
    "Variance:\n",
    "----------\n",
    "\n",
    "Variance is defined as <i>The average of the squared differences from the Mean.</i>\n",
    "\n",
    "Variance tells us how dispersed a dataset is. So, the more the variance is the more dispersed the datapoints are from the mean.\n",
    "\n",
    "Let's calculate the variance in this example:"
   ]
  },
  {
   "cell_type": "code",
   "execution_count": 2,
   "metadata": {
    "collapsed": false
   },
   "outputs": [],
   "source": [
    "# Suppose we have this list of some random numbers\n",
    "x = [12, 30, 15, 24, 14, 18, 28, 26, 19, 27]"
   ]
  },
  {
   "cell_type": "markdown",
   "metadata": {},
   "source": [
    "<b>Step 1:</b> Let's calculate the mean (average) of x"
   ]
  },
  {
   "cell_type": "code",
   "execution_count": 5,
   "metadata": {
    "collapsed": false
   },
   "outputs": [
    {
     "name": "stdout",
     "output_type": "stream",
     "text": [
      "21.3\n"
     ]
    }
   ],
   "source": [
    "x_mean = sum(x) / len(x)\n",
    "print(x_mean)"
   ]
  },
  {
   "cell_type": "markdown",
   "metadata": {},
   "source": [
    "<b>Step 2:</b> Now, let's calculate the difference of each x value from the mean (x_mean)"
   ]
  },
  {
   "cell_type": "code",
   "execution_count": 8,
   "metadata": {
    "collapsed": false
   },
   "outputs": [
    {
     "name": "stdout",
     "output_type": "stream",
     "text": [
      "[-9.3, 8.7, -6.300000000000001, 2.6999999999999993, -7.300000000000001, -3.3000000000000007, 6.699999999999999, 4.699999999999999, -2.3000000000000007, 5.699999999999999]\n"
     ]
    }
   ],
   "source": [
    "# Create a new list which will store the difference of each value in x from the mean\n",
    "x_mean_difference = [values - x_mean for values in x]"
   ]
  },
  {
   "cell_type": "markdown",
   "metadata": {},
   "source": [
    "<b>Step3:</b> Let's calculate the Variance now"
   ]
  },
  {
   "cell_type": "code",
   "execution_count": 10,
   "metadata": {
    "collapsed": false
   },
   "outputs": [
    {
     "name": "stdout",
     "output_type": "stream",
     "text": [
      "37.809999999999995\n"
     ]
    }
   ],
   "source": [
    "# Now, we just have to square each x_mean_difference value and get the average\n",
    "variance = sum( [diff_value ** 2 for diff_value in x_mean_difference] ) / len(x_mean_difference)\n",
    "print(variance)"
   ]
  },
  {
   "cell_type": "markdown",
   "metadata": {},
   "source": [
    "You can calculate all that by using <b>numpy</b> library:"
   ]
  },
  {
   "cell_type": "code",
   "execution_count": 11,
   "metadata": {
    "collapsed": false
   },
   "outputs": [
    {
     "name": "stdout",
     "output_type": "stream",
     "text": [
      "37.81\n"
     ]
    }
   ],
   "source": [
    "import numpy as np\n",
    "\n",
    "variance = np.var(x)\n",
    "print(variance)"
   ]
  },
  {
   "cell_type": "markdown",
   "metadata": {},
   "source": [
    "Standard Deviation:\n",
    "----------------------\n",
    "\n",
    "Standard Deviation is the squared root of variance. The Standard Deviation is bigger when the differences are more spread out\n",
    "\n",
    "Let's calcuate the Standard Deviation of our variance:"
   ]
  },
  {
   "cell_type": "code",
   "execution_count": 12,
   "metadata": {
    "collapsed": false
   },
   "outputs": [
    {
     "name": "stdout",
     "output_type": "stream",
     "text": [
      "6.148983655857284\n"
     ]
    }
   ],
   "source": [
    "import math\n",
    "\n",
    "standard_deviation = math.sqrt(variance)\n",
    "print(standard_deviation)"
   ]
  },
  {
   "cell_type": "markdown",
   "metadata": {},
   "source": [
    "We can also calculate the standard deviaion of our list x using the <b>numpy</b> library:"
   ]
  },
  {
   "cell_type": "code",
   "execution_count": 13,
   "metadata": {
    "collapsed": false
   },
   "outputs": [
    {
     "name": "stdout",
     "output_type": "stream",
     "text": [
      "6.14898365586\n"
     ]
    }
   ],
   "source": [
    "import numpy as np\n",
    "\n",
    "standard_deviation = np.std(x)\n",
    "print(standard_deviation)"
   ]
  },
  {
   "cell_type": "markdown",
   "metadata": {},
   "source": [
    "Points to Note:\n",
    "-----------------\n",
    "\n",
    "1. In the above examples we calculated the variance and Standard Deviation for the 'population' dataset i.e; the entire dataset.\n",
    "2. If we want to calculate variance on a 'sample dataset' then we just have to subtract 1 from the length of the dataset.\n",
    "3. Using numpy you can calculate the <i><b>Sample Variance</b></i> and <i><b>Sample Standard Deviation</b></i> by:\n",
    "<pre>variance = np.var(x, ddof=1)</pre>\n",
    "<pre>standard_deviation = np.std(x, ddof=1)</pre>"
   ]
  }
 ],
 "metadata": {
  "kernelspec": {
   "display_name": "Python 3",
   "language": "python",
   "name": "python3"
  },
  "language_info": {
   "codemirror_mode": {
    "name": "ipython",
    "version": 3
   },
   "file_extension": ".py",
   "mimetype": "text/x-python",
   "name": "python",
   "nbconvert_exporter": "python",
   "pygments_lexer": "ipython3",
   "version": "3.6.0"
  }
 },
 "nbformat": 4,
 "nbformat_minor": 2
}
